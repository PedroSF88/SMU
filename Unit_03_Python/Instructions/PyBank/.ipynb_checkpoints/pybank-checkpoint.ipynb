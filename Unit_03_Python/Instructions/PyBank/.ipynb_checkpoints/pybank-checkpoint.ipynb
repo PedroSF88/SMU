{
 "cells": [
  {
   "cell_type": "code",
   "execution_count": 1,
   "metadata": {},
   "outputs": [],
   "source": [
    "import pandas as pd\n",
    "import numpy as np"
   ]
  },
  {
   "cell_type": "code",
   "execution_count": 2,
   "metadata": {},
   "outputs": [],
   "source": [
    "df = pd.read_csv(r'C:\\Users\\floPe\\OneDrive\\Desktop\\SMU\\SMU\\Unit_03_Python\\Instructions\\PyBank\\Resources\\budget_data.csv')"
   ]
  },
  {
   "cell_type": "code",
   "execution_count": 3,
   "metadata": {},
   "outputs": [],
   "source": [
    "NumMonths = len(df[\"Date\"].unique())"
   ]
  },
  {
   "cell_type": "code",
   "execution_count": 4,
   "metadata": {},
   "outputs": [],
   "source": [
    "dftotalsum = df[\"Profit/Losses\"].sum()\n",
    "avgdif=df['Profit/Losses'].diff()\n",
    "averagediff=avgdif.sum()/(NumMonths-1)\n",
    "maxdif=avgdif.max()\n",
    "mindif=avgdif.min()\n"
   ]
  },
  {
   "cell_type": "code",
   "execution_count": 5,
   "metadata": {},
   "outputs": [],
   "source": [
    "df2=df\n",
    "df2[\"Avg_Dif\"]=avgdif\n"
   ]
  },
  {
   "cell_type": "code",
   "execution_count": 6,
   "metadata": {},
   "outputs": [],
   "source": [
    "max_date=df2['Date'].loc[df2['Avg_Dif'].idxmax()]\n",
    "min_date=df2['Date'].loc[df2['Avg_Dif'].idxmin()]"
   ]
  },
  {
   "cell_type": "code",
   "execution_count": 7,
   "metadata": {},
   "outputs": [],
   "source": [
    "max_dd=(max_date,maxdif)\n",
    "min_dd=(min_date,mindif)"
   ]
  },
  {
   "cell_type": "code",
   "execution_count": 8,
   "metadata": {},
   "outputs": [],
   "source": [
    "finData_df=pd.DataFrame({\n",
    "    'Financial Analysis':['Total Months:', 'Total:', 'Average Change:','Greatest Increase in Profits:', 'Greatest Decrease in Profits '],\n",
    "'Amt':[NumMonths,dftotalsum, averagediff, max_dd,min_dd]\n",
    "})\n"
   ]
  },
  {
   "cell_type": "code",
   "execution_count": 9,
   "metadata": {},
   "outputs": [
    {
     "name": "stdout",
     "output_type": "stream",
     "text": [
      "              Financial Analysis                     Amt\n",
      "0                  Total Months:                      86\n",
      "1                         Total:                38382578\n",
      "2                Average Change:                -2315.12\n",
      "3  Greatest Increase in Profits:   (Feb-2012, 1926159.0)\n",
      "4  Greatest Decrease in Profits   (Sep-2013, -2196167.0)\n"
     ]
    }
   ],
   "source": [
    "print(finData_df)"
   ]
  },
  {
   "cell_type": "code",
   "execution_count": 10,
   "metadata": {},
   "outputs": [],
   "source": [
    "finData_df.to_csv('pybank.txt')"
   ]
  },
  {
   "cell_type": "code",
   "execution_count": null,
   "metadata": {},
   "outputs": [],
   "source": []
  }
 ],
 "metadata": {
  "kernelspec": {
   "display_name": "Python 3",
   "language": "python",
   "name": "python3"
  },
  "language_info": {
   "codemirror_mode": {
    "name": "ipython",
    "version": 3
   },
   "file_extension": ".py",
   "mimetype": "text/x-python",
   "name": "python",
   "nbconvert_exporter": "python",
   "pygments_lexer": "ipython3",
   "version": "3.7.3"
  }
 },
 "nbformat": 4,
 "nbformat_minor": 2
}
